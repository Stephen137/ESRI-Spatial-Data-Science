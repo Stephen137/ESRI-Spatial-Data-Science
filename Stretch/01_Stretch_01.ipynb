{
 "cells": [
  {
   "cell_type": "markdown",
   "id": "2a58c592-498e-4ce5-89fe-7653887c6ffe",
   "metadata": {},
   "source": [
    "### **Step 13: Stretch goal (Optional)**"
   ]
  },
  {
   "cell_type": "markdown",
   "id": "2a596125-94cd-4ac8-af42-e54c9454f49a",
   "metadata": {},
   "source": [
    "Throughout this course, you will see exercise stretch goals. These goals include ways that you can continue or enhance the work that you completed during the exercise.\n",
    "\n",
    "Stretch goals are community-supported (meaning that your fellow MOOC participants can assist you with the steps to complete the stretch goal using the Lesson Forum), and they are a great opportunity to work together to learn.\n",
    "\n",
    "If you would like to continue engineering your data, you can modify the ArcGIS notebook to include the following tasks:\n",
    "\n",
    "1. Identify and remove records with null candidatevotes values in the election data.\n",
    "\n",
    "2. Apply a symbology layer (default.lyrx) to the 2020 election turnout feature class (out_2020_fc_name).\n",
    "\n",
    "The default.lyrx file is located in the `DataEngineering_And_Visualization` folder. The ArcGIS Pro Help: [Apply Symbology From Layer (Data Management)](https://pro.arcgis.com/en/pro-app/tool-reference/data-management/apply-symbology-from-layer.htm) documentation describes the process of applying a symbology layer and includes the syntax to use in your script.\n",
    "\n",
    "3. Determine how to incorporate Alaska into this analysis.\n",
    "\n",
    ">Note: Alaska does not have counties. Research its administrative and political subdivisions to determine how the data would need to be engineered to address this issue.\n",
    "\n",
    "4. Use the Lesson Forum to post your questions, observations, and syntax examples. Be sure to include the #stretch hashtag in the posting title.\n",
    "\n",
    "5. When you are finished, close the Data Engineering map and notebook tabs, save the project, and then exit ArcGIS Pro."
   ]
  },
  {
   "cell_type": "code",
   "execution_count": null,
   "id": "a0e57f39-4b08-427f-8b43-32663e0fb685",
   "metadata": {},
   "outputs": [],
   "source": []
  }
 ],
 "metadata": {
  "kernelspec": {
   "display_name": "Python 3 (ipykernel)",
   "language": "python",
   "name": "python3"
  },
  "language_info": {
   "codemirror_mode": {
    "name": "ipython",
    "version": 3
   },
   "file_extension": ".py",
   "mimetype": "text/x-python",
   "name": "python",
   "nbconvert_exporter": "python",
   "pygments_lexer": "ipython3",
   "version": "3.10.12"
  }
 },
 "nbformat": 4,
 "nbformat_minor": 5
}
