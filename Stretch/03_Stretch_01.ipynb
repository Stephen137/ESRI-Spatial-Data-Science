{
 "cells": [
  {
   "cell_type": "markdown",
   "id": "bca1c85a-9482-4595-9e52-c12e427d8ac4",
   "metadata": {},
   "source": [
    "### **Step 15: Stretch goal (Optional)**"
   ]
  },
  {
   "cell_type": "markdown",
   "id": "48ecaae8-99e5-4307-b2dd-fc56e5c3fae1",
   "metadata": {},
   "source": [
    "The shareholders would also like the headquarters to connect to a nearby park so that employees can walk or bike between the campus buildings and the park. In this analysis, you will identify the best paths, or corridors, using ModelBuilder. ModelBuilder allows you to visualize and record a series of analyses, or a model. It uses shape, color, text, and symbols to visually communicate information about the model. ModelBuilder helps you organize, document, and share your analysis with others.\n",
    "\n",
    "The models for this analysis have been completed for you using ModelBuilder and are available in the Catalog pane, under Toolboxes, in Suitability.atbx. Use these models to review, validate, and run the analysis. If necessary, go to ArcGIS Pro Help: [What is ModelBuilder?](https://pro.arcgis.com/en/pro-app/help/analysis/geoprocessing/modelbuilder/what-is-modelbuilder-.htm) to help you complete the stretch goal.\n",
    "\n",
    "The two models that are provided for you are the following:\n",
    "\n",
    "- Cost Surface: This model identifies the cost that a traveler (walker or biker) encounters as they move through each cell. The criteria that the traveler prefers include fewer steep slopes, being farther from roads, and being closer to streams. The preferred values are assigned a lower cost. The result is a cost surface identifying the cost to move through each cell with the most preferred areas having lower values. This model is the reverse of a suitability model.\n",
    "\n",
    "- Connect Campuses: This model converts the park from a vector polygon to a raster, adds the park to the layer with the five headquarters buildings, and then runs a connectivity tool. The tool connects the five headquarters buildings and park by using the cost surface created in the previous model. The result identifies the most suitable network of paths that can connect the buildings to each other and to the park.\n",
    "\n",
    "1. Use the following high-level steps to continue the analysis with ModelBuilder:\n",
    "\n",
    "- Edit the Cost Surface model first.\n",
    "- Validate and run the Cost Surface model.\n",
    "- Review the results on the Map tab.\n",
    "- Edit the Connect Campuses model.\n",
    "- Add and connect the necessary data variables to complete the model.\n",
    "- Validate and run the Connect Campuses model.\n",
    "- Turn off the Cost Surface layer and review the results on the Map tab.\n",
    "\n",
    "If you would like to view the results without running the models, you can add the Neigh_Connections results to your map from Data.gdb.\n",
    "\n",
    "2. Turn on and review the following layers:\n",
    "\n",
    "- HQ_Final_Suitability \n",
    "- Suitable_Locations \n",
    "- Neigh_Connections\n",
    "\n",
    "3. Use the Lesson Forum to post your questions and observations. Be sure to include the #stretch hashtag in the posting title.\n",
    "\n",
    "4. When you are finished, save the project and exit ArcGIS Pro."
   ]
  },
  {
   "cell_type": "code",
   "execution_count": null,
   "id": "f50325f9-7603-4739-8920-a3993eeff3e1",
   "metadata": {},
   "outputs": [],
   "source": []
  }
 ],
 "metadata": {
  "kernelspec": {
   "display_name": "Python 3 (ipykernel)",
   "language": "python",
   "name": "python3"
  },
  "language_info": {
   "codemirror_mode": {
    "name": "ipython",
    "version": 3
   },
   "file_extension": ".py",
   "mimetype": "text/x-python",
   "name": "python",
   "nbconvert_exporter": "python",
   "pygments_lexer": "ipython3",
   "version": "3.10.12"
  }
 },
 "nbformat": 4,
 "nbformat_minor": 5
}
