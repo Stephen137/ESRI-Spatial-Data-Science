{
 "cells": [
  {
   "cell_type": "markdown",
   "id": "4fe4fe78-736a-4de1-97d5-d2c6b146a0f1",
   "metadata": {},
   "source": [
    "#### **Step 10: Stretch goal (Optional)**"
   ]
  },
  {
   "cell_type": "code",
   "execution_count": null,
   "id": "1a8bd9dd-3c59-406e-8d95-ff04e8ddaec3",
   "metadata": {},
   "outputs": [],
   "source": [
    "ArcGIS Pro includes a comprehensive suite of geoprocessing tools that can perform spatial analysis or manage GIS data in an automated way. The Local Bivariate Relationships tool quantifies the local relationship between two variables and indicates how the type of relationship varies spatially. You will use this tool to quantify the relationship between voter turnout and per capita income and then determine whether this relationship varies across the contiguous United States. To learn more about the Local Bivariate Relationships tool, go to ArcGIS Pro Help: How Local Bivariate Relationships worksOpens in new window. The Local Bivariate Relationships tool identifies not only linear relationships but also concave/convex and other undefined complex relationships. The colors in the map correspond to the type of relationship that is found in that area.\n",
    "\n",
    "1. Use the following high-level tasks to continue this analysis:\n",
    "\n",
    "- Run the Local Bivariate Relationships tool using voter turnout and per capita income variables.\n",
    "- Turn on Enable Local Scatterplot Pop-ups in the tool.\n",
    "- Click a county to open a pop-up window that visualizes the relationship.\n",
    "- Run the tool again to explore different variables.\n",
    "\n",
    "2. Use the Lesson Forum to post your questions and observations. Be sure to include the #stretch hashtag in the posting title.\n",
    "\n",
    "3. Also, in the Lesson Forum, identify two to three variables that you want to use in a prediction model.\n",
    "\n",
    "4. When you are finished, close the map and Geoprocessing pane, and then save the project and exit ArcGIS Pro.\n",
    "\n",
    "Based on the information that you find using this tool, you can see how the scale of your analysis (for example, county versus state) can impact which variables are relevant for a prediction analysis."
   ]
  }
 ],
 "metadata": {
  "kernelspec": {
   "display_name": "Python 3 (ipykernel)",
   "language": "python",
   "name": "python3"
  },
  "language_info": {
   "codemirror_mode": {
    "name": "ipython",
    "version": 3
   },
   "file_extension": ".py",
   "mimetype": "text/x-python",
   "name": "python",
   "nbconvert_exporter": "python",
   "pygments_lexer": "ipython3",
   "version": "3.10.12"
  }
 },
 "nbformat": 4,
 "nbformat_minor": 5
}
