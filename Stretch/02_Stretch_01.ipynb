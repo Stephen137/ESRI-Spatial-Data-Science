{
 "cells": [
  {
   "cell_type": "markdown",
   "id": "a0d8deb0-e0cc-4c99-ae7d-68ecc7c3f788",
   "metadata": {},
   "source": [
    "### **Step 10: Stretch goal (Optional)**"
   ]
  },
  {
   "cell_type": "markdown",
   "id": "438c03c8-e971-4415-854e-c9b15c63850f",
   "metadata": {},
   "source": [
    "For this stretch goal, you will use what you learned in this exercise to change the scale of your analysis and refine the model by identifying variables of least importance and adjusting the tool's parameters. To localize your analysis, you will train your model using only upper Midwest county-level data. Then, you will rerun the model to determine whether these refinements improved model performance for predicting voter turnout in the state of Iowa. Remember: refining your model is typically an iterative process, where you remove some variables and then rerun and evaluate the model.\n",
    "\n",
    "1. Use the following high-level steps to continue this analysis:\n",
    "\n",
    "- In the Geoprocessing pane, set Input Training Features to CountyElections_IA_And_Neighbors.\n",
    "- Set Variable To Predict to `Voter_Turnout`.\n",
    "- Select the Explanatory Training Variables that you want to use for your model.\n",
    "- Add any Explanatory Training Distance Features that might affect the model.\n",
    "- For Input Prediction Features, choose Tracts_Iowa.\n",
    "- For Prediction, match the explanatory variables.\n",
    "- Run the model.\n",
    "- Review the tool message window and the charts to determine whether you improved the model's performance.\n",
    "\n",
    ">Note: If necessary, the project contains a bookmark that zooms to the state of Iowa.\n",
    "\n",
    "2. Use the Lesson Forum to post your questions and observations. Be sure to include the #stretch hashtag in the posting title.\n",
    "\n",
    "3. When you are finished, save the project and exit ArcGIS Pro."
   ]
  },
  {
   "cell_type": "code",
   "execution_count": null,
   "id": "f33216b4-210c-4b10-be52-1852445295c8",
   "metadata": {},
   "outputs": [],
   "source": []
  }
 ],
 "metadata": {
  "kernelspec": {
   "display_name": "Python 3 (ipykernel)",
   "language": "python",
   "name": "python3"
  },
  "language_info": {
   "codemirror_mode": {
    "name": "ipython",
    "version": 3
   },
   "file_extension": ".py",
   "mimetype": "text/x-python",
   "name": "python",
   "nbconvert_exporter": "python",
   "pygments_lexer": "ipython3",
   "version": "3.10.12"
  }
 },
 "nbformat": 4,
 "nbformat_minor": 5
}
